{
 "cells": [
  {
   "cell_type": "raw",
   "metadata": {},
   "source": [
    "1. Introduction : \n",
    "Un ordinateur  ne manipule que des nombres aves des opérations sur des nombres.\n",
    "La majorité des instructions consiste à modifier de manière arithmétique (en additionnant, multipliant, ou effectuant d'autres opérations de ce genre) le contenu des cases mémoire de l'ordinateur.\n",
    "Afin de faire faire des opérations  à un ordinateur on écrit des programmes  et pour faire fonctionner un programme on doit utiliser des variables (qui permettent de stocker des valeurs dans la mémoire pendant l’exécution de programme). Il y plusieurs type de variables.\n"
   ]
  },
  {
   "cell_type": "raw",
   "metadata": {},
   "source": [
    "2. Types prédéfinis\n",
    "Quelques types de base sont:\n",
    "• Type entier (noté int en python)\n",
    "• Type réel en virgule flottante.(noté float)\n",
    "• Les caractères chaines de caractères (noté str en python)\n",
    "• Type booléen : valeurs vrai ou faux  ;(noté bool en python)\n"
   ]
  },
  {
   "cell_type": "raw",
   "metadata": {},
   "source": [
    "3. Pourquoi les variables sont typées ?\n",
    "- Attribuer un type permet de limiter les erreurs, \n",
    "- définir ce qu’il est possible de faire avec cette variable prenant en considération l’objectif du programme, - définir des règles de compatibilités entre les expressions utilisant des variables  \n",
    "\n"
   ]
  },
  {
   "cell_type": "raw",
   "metadata": {},
   "source": [
    "4. typage statique vs typage dynamique \n",
    " Dans un   langage comme  C un programme est compilé avant d’être exécute. Les types des variables doivent être définis pendant la déclaration de celles-ci . Sous Python, il n’est pas nécessaire de déclarer une variable (définir le type des variables) avant de pouvoir les utiliser. Il vous suffit en effet d’assigner une valeur à un nom de variable pour que celle-ci soit automatiquement créée avec le type qui correspond au mieux à la valeur fournie. On dira à ce sujet que le typage des variables sous Python est un typage dynamique. On dit que dans python le typage est implicite .\n"
   ]
  },
  {
   "cell_type": "raw",
   "metadata": {},
   "source": [
    "\n",
    "5. Typage fort vs typage faible\n",
    "\n",
    "Python est un langage de typage fort. Prenons l’exemple suivant :\n",
    "\n"
   ]
  },
  {
   "cell_type": "code",
   "execution_count": 43,
   "metadata": {},
   "outputs": [
    {
     "ename": "TypeError",
     "evalue": "unsupported operand type(s) for +: 'int' and 'str'",
     "output_type": "error",
     "traceback": [
      "\u001b[0;31m---------------------------------------------------------------------------\u001b[0m",
      "\u001b[0;31mTypeError\u001b[0m                                 Traceback (most recent call last)",
      "\u001b[0;32m<ipython-input-43-6919f86f464b>\u001b[0m in \u001b[0;36m<module>\u001b[0;34m()\u001b[0m\n\u001b[1;32m      1\u001b[0m \u001b[0mvariable1\u001b[0m \u001b[0;34m=\u001b[0m\u001b[0;36m3\u001b[0m\u001b[0;34m\u001b[0m\u001b[0m\n\u001b[1;32m      2\u001b[0m \u001b[0mVariable2\u001b[0m\u001b[0;34m=\u001b[0m\u001b[0;34m\"Hello\"\u001b[0m\u001b[0;34m\u001b[0m\u001b[0m\n\u001b[0;32m----> 3\u001b[0;31m \u001b[0mvariable\u001b[0m\u001b[0;34m=\u001b[0m\u001b[0mvariable1\u001b[0m\u001b[0;34m+\u001b[0m\u001b[0mVariable2\u001b[0m\u001b[0;34m\u001b[0m\u001b[0m\n\u001b[0m",
      "\u001b[0;31mTypeError\u001b[0m: unsupported operand type(s) for +: 'int' and 'str'"
     ]
    }
   ],
   "source": [
    "variable1 =3\n",
    "Variable2=\"Hello\"\n",
    "variable=variable1+Variable2\n"
   ]
  },
  {
   "cell_type": "raw",
   "metadata": {},
   "source": [
    "variable1 =3 dans cette instruction variable1 est définie par python comme un type de nombre et en particulier entier\n",
    "\n",
    "Variable2=\"Hello\" dans cette instruction variable1 est définie par python comme un type une chaine de caractère. L’opération d’addition entre ces deux variables est interdite en python. "
   ]
  },
  {
   "cell_type": "raw",
   "metadata": {},
   "source": [
    "Fonction qui indique le type d'une variable"
   ]
  },
  {
   "cell_type": "code",
   "execution_count": 2,
   "metadata": {},
   "outputs": [],
   "source": [
    "def type_variable(x):\n",
    "    print(type(x))"
   ]
  },
  {
   "cell_type": "raw",
   "metadata": {},
   "source": [
    "Lire le script ci-dessous. Que va-t-il afficher? Vérifier en l'éxécutant."
   ]
  },
  {
   "cell_type": "code",
   "execution_count": 3,
   "metadata": {},
   "outputs": [
    {
     "name": "stdout",
     "output_type": "stream",
     "text": [
      "<class 'int'>\n",
      "<class 'str'>\n"
     ]
    }
   ],
   "source": [
    "a=2\n",
    "type_variable(a)\n",
    "a='toto'\n",
    "type_variable(a)\n"
   ]
  },
  {
   "cell_type": "raw",
   "metadata": {},
   "source": [
    "Ainsi en fonction de l'affectation de la variable, Python affecte à la variable automatiquement un type (typage automatique). "
   ]
  },
  {
   "cell_type": "raw",
   "metadata": {},
   "source": [
    "Une variable peut-elle changer de type au cours d'un programme? Si le type d'une variable change au cours d'un programme, le typage est dit dynamique."
   ]
  },
  {
   "cell_type": "raw",
   "metadata": {},
   "source": [
    "Additionner une variable de type int et une variable de type float. Quel est le type du résultat."
   ]
  },
  {
   "cell_type": "code",
   "execution_count": 4,
   "metadata": {},
   "outputs": [],
   "source": [
    "x=3\n",
    "y=2.\n",
    "z=x+y\n",
    "\n"
   ]
  },
  {
   "cell_type": "raw",
   "metadata": {},
   "source": [
    "Utiliser le script précédent pour tester la multiplication et la division."
   ]
  },
  {
   "cell_type": "code",
   "execution_count": 21,
   "metadata": {},
   "outputs": [
    {
     "name": "stdout",
     "output_type": "stream",
     "text": [
      "<class 'float'>\n",
      "<class 'float'>\n",
      "<class 'float'>\n"
     ]
    }
   ],
   "source": [
    "x=3\n",
    "y=2.0\n",
    "type_variable(x/y)\n",
    "type_variable(y/x)\n",
    "type_variable(x*y)"
   ]
  },
  {
   "cell_type": "raw",
   "metadata": {},
   "source": [
    "Une variable d'un certain type peut-être convertie en un autre type à l'aide des insctructions int(ma_variable), float(ma_variable), str(ma_variable), ... Cette opération s'appelle le transtypage (ou cast en anglais)."
   ]
  },
  {
   "cell_type": "code",
   "execution_count": 18,
   "metadata": {},
   "outputs": [
    {
     "name": "stdout",
     "output_type": "stream",
     "text": [
      "2\n",
      "<class 'int'>\n"
     ]
    }
   ],
   "source": [
    "x=2.8\n",
    "y=int(x)\n",
    "print(y)\n",
    "type_variable(y)\n"
   ]
  },
  {
   "cell_type": "raw",
   "metadata": {},
   "source": [
    "Modifier le script précédent, en prenant pour x, les valeurs 2.0, -1.7. Quelle opération est donc réaliser pour convertir un float en int."
   ]
  },
  {
   "cell_type": "code",
   "execution_count": 19,
   "metadata": {},
   "outputs": [
    {
     "name": "stdout",
     "output_type": "stream",
     "text": [
      "2.0\n",
      "<class 'float'>\n"
     ]
    }
   ],
   "source": [
    "x=2\n",
    "y=float(x)\n",
    "print(y)\n",
    "type_variable(y)"
   ]
  },
  {
   "cell_type": "raw",
   "metadata": {},
   "source": [
    "On souhaite réaliser un programme qui calcul l'IMC (Indice de Masse corporelle). L'IMC est donné par la formule : IMC = Masse/(Taille*Taille) $IMC=\\frac{Masse}{Taille^2}$ où la masse est exprimée en kg et la Taille en m. "
   ]
  },
  {
   "cell_type": "code",
   "execution_count": null,
   "metadata": {},
   "outputs": [],
   "source": [
    "masse=input('masse (kg)= ')\n",
    "taille=input('taille (m)= ')\n",
    "IMC = masse/(taille*taille)\n",
    "print('IMC = ',IMC)\n"
   ]
  },
  {
   "cell_type": "raw",
   "metadata": {},
   "source": [
    "Le script précédent, ne fonctionne pas, quel est le problème et le corriger."
   ]
  },
  {
   "cell_type": "code",
   "execution_count": 11,
   "metadata": {},
   "outputs": [
    {
     "name": "stdin",
     "output_type": "stream",
     "text": [
      "masse (kg)=  60\n",
      "taille (m)=  1.6\n"
     ]
    },
    {
     "name": "stdout",
     "output_type": "stream",
     "text": [
      "IMC =  23.437499999999996\n"
     ]
    }
   ],
   "source": [
    "masse=float(input('masse (kg)= '))\n",
    "taille=float(input('taille (m)= '))\n",
    "IMC = masse/(taille*taille)\n",
    "print('IMC = ',IMC)\n",
    "\n"
   ]
  },
  {
   "cell_type": "raw",
   "metadata": {},
   "source": [
    "La fonction input renvoie un type str (chaîne de caractères). Il faut donc convertir cette chaine de caractère en type float, à l'aide de l'instruction float(variable)."
   ]
  },
  {
   "cell_type": "raw",
   "metadata": {},
   "source": [
    "Le type booléen:\n",
    "\n",
    "Il existe un type de variable prenant uniquement deux valeurs : vrai ou faux (true ou false en anglais). Ce type est appelé le type booléen.\n"
   ]
  },
  {
   "cell_type": "code",
   "execution_count": 29,
   "metadata": {},
   "outputs": [
    {
     "name": "stdout",
     "output_type": "stream",
     "text": [
      "False\n",
      "True\n",
      "True\n"
     ]
    }
   ],
   "source": [
    "print(1==2)\n",
    "print(1==1)\n",
    "print(1<5)"
   ]
  },
  {
   "cell_type": "code",
   "execution_count": 31,
   "metadata": {},
   "outputs": [
    {
     "name": "stdout",
     "output_type": "stream",
     "text": [
      "True\n",
      "<class 'bool'>\n"
     ]
    }
   ],
   "source": [
    "x = (1<5)\n",
    "print(x)\n",
    "type_variable(x)"
   ]
  },
  {
   "cell_type": "code",
   "execution_count": 38,
   "metadata": {},
   "outputs": [
    {
     "name": "stdout",
     "output_type": "stream",
     "text": [
      "True\n",
      "True\n",
      "False\n",
      "True\n",
      "False\n",
      "True\n"
     ]
    }
   ],
   "source": [
    "print(2.0==2)\n",
    "print(2.0<3)\n",
    "print(2.0>3)\n",
    "print(4//2==2)\n",
    "print('test'==3)\n"
   ]
  },
  {
   "cell_type": "raw",
   "metadata": {},
   "source": [
    "Attention, il ne faut jamais tester l'égalité entre deux variables de type float. Analyser les exemples ci-dessous."
   ]
  },
  {
   "cell_type": "code",
   "execution_count": 42,
   "metadata": {},
   "outputs": [
    {
     "name": "stdout",
     "output_type": "stream",
     "text": [
      "True\n",
      "True\n",
      "False\n"
     ]
    }
   ],
   "source": [
    "print('test'=='test')\n",
    "print(1+2==3)\n",
    "print(0.1+0.2==0.3)"
   ]
  },
  {
   "cell_type": "raw",
   "metadata": {},
   "source": []
  }
 ],
 "metadata": {
  "kernelspec": {
   "display_name": "Python 3",
   "language": "python",
   "name": "python3"
  },
  "language_info": {
   "codemirror_mode": {
    "name": "ipython",
    "version": 3
   },
   "file_extension": ".py",
   "mimetype": "text/x-python",
   "name": "python",
   "nbconvert_exporter": "python",
   "pygments_lexer": "ipython3",
   "version": "3.6.3"
  }
 },
 "nbformat": 4,
 "nbformat_minor": 2
}
